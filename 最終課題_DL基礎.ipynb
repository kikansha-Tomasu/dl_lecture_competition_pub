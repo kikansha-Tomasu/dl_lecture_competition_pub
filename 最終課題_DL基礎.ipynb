{
  "cells": [
    {
      "cell_type": "markdown",
      "metadata": {
        "id": "view-in-github",
        "colab_type": "text"
      },
      "source": [
        "<a href=\"https://colab.research.google.com/github/kikansha-Tomasu/dl_lecture_competition_pub/blob/event-camera-competition/%E6%9C%80%E7%B5%82%E8%AA%B2%E9%A1%8C_DL%E5%9F%BA%E7%A4%8E.ipynb\" target=\"_parent\"><img src=\"https://colab.research.google.com/assets/colab-badge.svg\" alt=\"Open In Colab\"/></a>"
      ]
    },
    {
      "cell_type": "code",
      "execution_count": 1,
      "metadata": {
        "colab": {
          "base_uri": "https://localhost:8080/"
        },
        "id": "zEC9yPfVTgqC",
        "outputId": "1e9c1cfb-af7a-4b48-a4c1-b03532228455"
      },
      "outputs": [
        {
          "output_type": "stream",
          "name": "stdout",
          "text": [
            "Drive already mounted at /content/drive; to attempt to forcibly remount, call drive.mount(\"/content/drive\", force_remount=True).\n"
          ]
        }
      ],
      "source": [
        "from google.colab import drive\n",
        "drive.mount('/content/drive')"
      ]
    },
    {
      "cell_type": "code",
      "execution_count": null,
      "metadata": {
        "id": "kQY4lPbZ-GgG"
      },
      "outputs": [],
      "source": [
        "import shutil\n",
        "shutil.unpack_archive('/content/drive/MyDrive/dl_lecture_competition_pub/data/train.zip', '/content/drive/MyDrive/dl_lecture_competition_pub/data')\n",
        "shutil.unpack_archive('/content/drive/MyDrive/dl_lecture_competition_pub/data/test.zip', '/content/drive/MyDrive/dl_lecture_competition_pub/data')"
      ]
    },
    {
      "cell_type": "code",
      "execution_count": null,
      "metadata": {
        "colab": {
          "base_uri": "https://localhost:8080/"
        },
        "id": "uIn13TF1iSkE",
        "outputId": "40cc5109-58fd-4aab-b587-f9f325f8802c"
      },
      "outputs": [
        {
          "name": "stdout",
          "output_type": "stream",
          "text": [
            "Cloning into 'dl_lecture_competition_pub'...\n",
            "remote: Enumerating objects: 52, done.\u001b[K\n",
            "remote: Total 52 (delta 0), reused 0 (delta 0), pack-reused 52\u001b[K\n",
            "Receiving objects: 100% (52/52), 61.98 KiB | 15.50 MiB/s, done.\n",
            "Resolving deltas: 100% (2/2), done.\n"
          ]
        }
      ],
      "source": [
        "!git clone https://github.com/kikansha-Tomasu/dl_lecture_competition_pub.git"
      ]
    },
    {
      "cell_type": "code",
      "execution_count": 10,
      "metadata": {
        "id": "AN45cpdmUDHU"
      },
      "outputs": [],
      "source": [
        "!git config --global user.email \"ryosktkg@gmail.com\"\n",
        "!git config --global user.name \"kikansha-Tomasu\""
      ]
    },
    {
      "cell_type": "code",
      "execution_count": 3,
      "metadata": {
        "colab": {
          "base_uri": "https://localhost:8080/",
          "height": 35
        },
        "id": "4iQUlxzmTNbZ",
        "outputId": "387edc2f-d90c-4fc9-ea1e-54a479b96bdd"
      },
      "outputs": [
        {
          "output_type": "execute_result",
          "data": {
            "text/plain": [
              "'/content'"
            ],
            "application/vnd.google.colaboratory.intrinsic+json": {
              "type": "string"
            }
          },
          "metadata": {},
          "execution_count": 3
        }
      ],
      "source": [
        "%pwd"
      ]
    },
    {
      "cell_type": "code",
      "execution_count": 3,
      "metadata": {
        "id": "9_Qp44-JW2pP"
      },
      "outputs": [],
      "source": [
        "!git config --global init.defaltBranch event-camera-competition"
      ]
    },
    {
      "cell_type": "code",
      "source": [
        "%cd /content/drive/MyDrive/dl_lecture_competition_pub\n",
        "!git checkout event-camera-competition"
      ],
      "metadata": {
        "colab": {
          "base_uri": "https://localhost:8080/"
        },
        "id": "MqV3TJhP0KYV",
        "outputId": "b57f7781-50d6-48af-b9b4-bbe9a49b50f0"
      },
      "execution_count": 4,
      "outputs": [
        {
          "output_type": "stream",
          "name": "stdout",
          "text": [
            "/content/drive/MyDrive/dl_lecture_competition_pub\n",
            "M\tconfigs/base.yaml\n",
            "M\tmain.py\n",
            "Already on 'event-camera-competition'\n",
            "Your branch is up to date with 'origin/event-camera-competition'.\n"
          ]
        }
      ]
    },
    {
      "cell_type": "code",
      "execution_count": 5,
      "metadata": {
        "colab": {
          "base_uri": "https://localhost:8080/"
        },
        "id": "QYw_YO-2ZEof",
        "outputId": "b7364798-deac-4f5e-b1b0-31cd2e4c089e"
      },
      "outputs": [
        {
          "output_type": "stream",
          "name": "stdout",
          "text": [
            "Requirement already satisfied: hydra-core in /usr/local/lib/python3.10/dist-packages (1.3.2)\n",
            "Requirement already satisfied: omegaconf<2.4,>=2.2 in /usr/local/lib/python3.10/dist-packages (from hydra-core) (2.3.0)\n",
            "Requirement already satisfied: antlr4-python3-runtime==4.9.* in /usr/local/lib/python3.10/dist-packages (from hydra-core) (4.9.3)\n",
            "Requirement already satisfied: packaging in /usr/local/lib/python3.10/dist-packages (from hydra-core) (24.0)\n",
            "Requirement already satisfied: PyYAML>=5.1.0 in /usr/local/lib/python3.10/dist-packages (from omegaconf<2.4,>=2.2->hydra-core) (6.0.1)\n"
          ]
        }
      ],
      "source": [
        "!pip install hydra-core --upgrade"
      ]
    },
    {
      "cell_type": "code",
      "execution_count": 6,
      "metadata": {
        "colab": {
          "base_uri": "https://localhost:8080/"
        },
        "id": "nKYNJuaPP5Wn",
        "outputId": "4253c0e0-c64a-48a2-ac9b-067b01bcaaee"
      },
      "outputs": [
        {
          "output_type": "stream",
          "name": "stdout",
          "text": [
            "Requirement already satisfied: hdf5plugin in /usr/local/lib/python3.10/dist-packages (4.4.0)\n",
            "Requirement already satisfied: h5py in /usr/local/lib/python3.10/dist-packages (from hdf5plugin) (3.11.0)\n",
            "Requirement already satisfied: numpy>=1.17.3 in /usr/local/lib/python3.10/dist-packages (from h5py->hdf5plugin) (1.26.4)\n"
          ]
        }
      ],
      "source": [
        "!pip install hdf5plugin"
      ]
    },
    {
      "cell_type": "code",
      "execution_count": 7,
      "metadata": {
        "colab": {
          "base_uri": "https://localhost:8080/"
        },
        "id": "RGepE1Jcal0p",
        "outputId": "7cb4ec16-ba59-43b1-fe91-12927bb20794"
      },
      "outputs": [
        {
          "output_type": "stream",
          "name": "stdout",
          "text": [
            "Requirement already satisfied: antlr4-python3-runtime==4.9.3 in /usr/local/lib/python3.10/dist-packages (from -r requirements.txt (line 1)) (4.9.3)\n",
            "Requirement already satisfied: cachetools==5.3.3 in /usr/local/lib/python3.10/dist-packages (from -r requirements.txt (line 2)) (5.3.3)\n",
            "Requirement already satisfied: colorama==0.4.6 in /usr/local/lib/python3.10/dist-packages (from -r requirements.txt (line 3)) (0.4.6)\n",
            "Requirement already satisfied: contourpy==1.2.1 in /usr/local/lib/python3.10/dist-packages (from -r requirements.txt (line 4)) (1.2.1)\n",
            "Requirement already satisfied: cycler==0.12.1 in /usr/local/lib/python3.10/dist-packages (from -r requirements.txt (line 5)) (0.12.1)\n",
            "Requirement already satisfied: filelock==3.14.0 in /usr/local/lib/python3.10/dist-packages (from -r requirements.txt (line 6)) (3.14.0)\n",
            "Requirement already satisfied: fonttools==4.51.0 in /usr/local/lib/python3.10/dist-packages (from -r requirements.txt (line 7)) (4.51.0)\n",
            "Requirement already satisfied: fsspec==2024.3.1 in /usr/local/lib/python3.10/dist-packages (from -r requirements.txt (line 8)) (2024.3.1)\n",
            "Requirement already satisfied: h5pickle==0.4.2 in /usr/local/lib/python3.10/dist-packages (from -r requirements.txt (line 9)) (0.4.2)\n",
            "Requirement already satisfied: h5py==3.11.0 in /usr/local/lib/python3.10/dist-packages (from -r requirements.txt (line 10)) (3.11.0)\n",
            "Requirement already satisfied: hdf5plugin==4.4.0 in /usr/local/lib/python3.10/dist-packages (from -r requirements.txt (line 11)) (4.4.0)\n",
            "Requirement already satisfied: hydra-core==1.3.2 in /usr/local/lib/python3.10/dist-packages (from -r requirements.txt (line 12)) (1.3.2)\n",
            "Requirement already satisfied: imageio==2.34.1 in /usr/local/lib/python3.10/dist-packages (from -r requirements.txt (line 13)) (2.34.1)\n",
            "Requirement already satisfied: intel-openmp==2021.4.0 in /usr/local/lib/python3.10/dist-packages (from -r requirements.txt (line 14)) (2021.4.0)\n",
            "Requirement already satisfied: Jinja2==3.1.4 in /usr/local/lib/python3.10/dist-packages (from -r requirements.txt (line 15)) (3.1.4)\n",
            "Requirement already satisfied: kiwisolver==1.4.5 in /usr/local/lib/python3.10/dist-packages (from -r requirements.txt (line 16)) (1.4.5)\n",
            "Requirement already satisfied: llvmlite==0.42.0 in /usr/local/lib/python3.10/dist-packages (from -r requirements.txt (line 17)) (0.42.0)\n",
            "Requirement already satisfied: MarkupSafe==2.1.5 in /usr/local/lib/python3.10/dist-packages (from -r requirements.txt (line 18)) (2.1.5)\n",
            "Requirement already satisfied: matplotlib==3.8.4 in /usr/local/lib/python3.10/dist-packages (from -r requirements.txt (line 19)) (3.8.4)\n",
            "Requirement already satisfied: mkl==2021.4.0 in /usr/local/lib/python3.10/dist-packages (from -r requirements.txt (line 20)) (2021.4.0)\n",
            "Requirement already satisfied: mpmath==1.3.0 in /usr/local/lib/python3.10/dist-packages (from -r requirements.txt (line 21)) (1.3.0)\n",
            "Requirement already satisfied: mypy==1.10.0 in /usr/local/lib/python3.10/dist-packages (from -r requirements.txt (line 22)) (1.10.0)\n",
            "Requirement already satisfied: mypy-extensions==1.0.0 in /usr/local/lib/python3.10/dist-packages (from -r requirements.txt (line 23)) (1.0.0)\n",
            "Requirement already satisfied: networkx==3.3 in /usr/local/lib/python3.10/dist-packages (from -r requirements.txt (line 24)) (3.3)\n",
            "Requirement already satisfied: numba==0.59.1 in /usr/local/lib/python3.10/dist-packages (from -r requirements.txt (line 25)) (0.59.1)\n",
            "Requirement already satisfied: numpy==1.26.4 in /usr/local/lib/python3.10/dist-packages (from -r requirements.txt (line 26)) (1.26.4)\n",
            "Requirement already satisfied: omegaconf==2.3.0 in /usr/local/lib/python3.10/dist-packages (from -r requirements.txt (line 27)) (2.3.0)\n",
            "Requirement already satisfied: opencv-python==4.9.0.80 in /usr/local/lib/python3.10/dist-packages (from -r requirements.txt (line 28)) (4.9.0.80)\n",
            "Requirement already satisfied: packaging==24.0 in /usr/local/lib/python3.10/dist-packages (from -r requirements.txt (line 29)) (24.0)\n",
            "Requirement already satisfied: pillow==10.3.0 in /usr/local/lib/python3.10/dist-packages (from -r requirements.txt (line 30)) (10.3.0)\n",
            "Requirement already satisfied: pyparsing==3.1.2 in /usr/local/lib/python3.10/dist-packages (from -r requirements.txt (line 31)) (3.1.2)\n",
            "Requirement already satisfied: python-dateutil==2.9.0.post0 in /usr/local/lib/python3.10/dist-packages (from -r requirements.txt (line 32)) (2.9.0.post0)\n",
            "Requirement already satisfied: PyYAML==6.0.1 in /usr/local/lib/python3.10/dist-packages (from -r requirements.txt (line 33)) (6.0.1)\n",
            "Requirement already satisfied: six==1.16.0 in /usr/local/lib/python3.10/dist-packages (from -r requirements.txt (line 34)) (1.16.0)\n",
            "Requirement already satisfied: sympy==1.12 in /usr/local/lib/python3.10/dist-packages (from -r requirements.txt (line 35)) (1.12)\n",
            "Requirement already satisfied: tbb==2021.12.0 in /usr/local/lib/python3.10/dist-packages (from -r requirements.txt (line 36)) (2021.12.0)\n",
            "Requirement already satisfied: torch==2.3.0 in /usr/local/lib/python3.10/dist-packages (from -r requirements.txt (line 37)) (2.3.0)\n",
            "Requirement already satisfied: torchvision==0.18.0 in /usr/local/lib/python3.10/dist-packages (from -r requirements.txt (line 38)) (0.18.0)\n",
            "Requirement already satisfied: tqdm==4.66.4 in /usr/local/lib/python3.10/dist-packages (from -r requirements.txt (line 39)) (4.66.4)\n",
            "Requirement already satisfied: typing_extensions==4.11.0 in /usr/local/lib/python3.10/dist-packages (from -r requirements.txt (line 40)) (4.11.0)\n",
            "Requirement already satisfied: tomli>=1.1.0 in /usr/local/lib/python3.10/dist-packages (from mypy==1.10.0->-r requirements.txt (line 22)) (2.0.1)\n",
            "Requirement already satisfied: nvidia-cuda-nvrtc-cu12==12.1.105 in /usr/local/lib/python3.10/dist-packages (from torch==2.3.0->-r requirements.txt (line 37)) (12.1.105)\n",
            "Requirement already satisfied: nvidia-cuda-runtime-cu12==12.1.105 in /usr/local/lib/python3.10/dist-packages (from torch==2.3.0->-r requirements.txt (line 37)) (12.1.105)\n",
            "Requirement already satisfied: nvidia-cuda-cupti-cu12==12.1.105 in /usr/local/lib/python3.10/dist-packages (from torch==2.3.0->-r requirements.txt (line 37)) (12.1.105)\n",
            "Requirement already satisfied: nvidia-cudnn-cu12==8.9.2.26 in /usr/local/lib/python3.10/dist-packages (from torch==2.3.0->-r requirements.txt (line 37)) (8.9.2.26)\n",
            "Requirement already satisfied: nvidia-cublas-cu12==12.1.3.1 in /usr/local/lib/python3.10/dist-packages (from torch==2.3.0->-r requirements.txt (line 37)) (12.1.3.1)\n",
            "Requirement already satisfied: nvidia-cufft-cu12==11.0.2.54 in /usr/local/lib/python3.10/dist-packages (from torch==2.3.0->-r requirements.txt (line 37)) (11.0.2.54)\n",
            "Requirement already satisfied: nvidia-curand-cu12==10.3.2.106 in /usr/local/lib/python3.10/dist-packages (from torch==2.3.0->-r requirements.txt (line 37)) (10.3.2.106)\n",
            "Requirement already satisfied: nvidia-cusolver-cu12==11.4.5.107 in /usr/local/lib/python3.10/dist-packages (from torch==2.3.0->-r requirements.txt (line 37)) (11.4.5.107)\n",
            "Requirement already satisfied: nvidia-cusparse-cu12==12.1.0.106 in /usr/local/lib/python3.10/dist-packages (from torch==2.3.0->-r requirements.txt (line 37)) (12.1.0.106)\n",
            "Requirement already satisfied: nvidia-nccl-cu12==2.20.5 in /usr/local/lib/python3.10/dist-packages (from torch==2.3.0->-r requirements.txt (line 37)) (2.20.5)\n",
            "Requirement already satisfied: nvidia-nvtx-cu12==12.1.105 in /usr/local/lib/python3.10/dist-packages (from torch==2.3.0->-r requirements.txt (line 37)) (12.1.105)\n",
            "Requirement already satisfied: triton==2.3.0 in /usr/local/lib/python3.10/dist-packages (from torch==2.3.0->-r requirements.txt (line 37)) (2.3.0)\n",
            "Requirement already satisfied: nvidia-nvjitlink-cu12 in /usr/local/lib/python3.10/dist-packages (from nvidia-cusolver-cu12==11.4.5.107->torch==2.3.0->-r requirements.txt (line 37)) (12.5.82)\n"
          ]
        }
      ],
      "source": [
        "!pip install -r requirements.txt"
      ]
    },
    {
      "cell_type": "code",
      "execution_count": null,
      "metadata": {
        "colab": {
          "base_uri": "https://localhost:8080/"
        },
        "id": "IYYvb-PIQAE3",
        "outputId": "31701aff-3669-4444-e5c2-95e0086be8bd"
      },
      "outputs": [
        {
          "name": "stdout",
          "output_type": "stream",
          "text": [
            "env: HYDRA_FULL_ERROR=1\n",
            "on epoch: 1\n",
            "  0% 0/252 [00:00<?, ?it/s]batch 0 loss: 195.50885279381794\n",
            "  0% 1/252 [01:51<7:46:48, 111.59s/it]batch 1 loss: 244.5779246527539\n",
            "  1% 2/252 [03:35<7:26:09, 107.08s/it]batch 2 loss: 211.7508325378219\n",
            "  1% 3/252 [05:21<7:21:43, 106.44s/it]batch 3 loss: 203.7842623451583\n",
            "  2% 4/252 [07:03<7:13:36, 104.90s/it]batch 4 loss: 114.08403948476143\n",
            "  2% 5/252 [08:43<7:04:05, 103.02s/it]batch 5 loss: 96.89662105995001\n",
            "  2% 6/252 [10:24<7:00:08, 102.48s/it]batch 6 loss: 70.84496936379614\n",
            "  3% 7/252 [12:05<6:56:24, 101.98s/it]batch 7 loss: 45.01987555964849\n",
            "  3% 8/252 [13:45<6:51:20, 101.15s/it]batch 8 loss: 79.35438949542758\n",
            "  4% 9/252 [15:27<6:51:00, 101.48s/it]batch 9 loss: 50.50680220892743\n",
            "  4% 10/252 [17:11<6:51:59, 102.15s/it]batch 10 loss: 45.07868989968732\n",
            "  4% 11/252 [18:54<6:52:17, 102.65s/it]batch 11 loss: 45.891296070105035\n",
            "  5% 12/252 [20:36<6:49:15, 102.32s/it]batch 12 loss: 45.93447280720821\n",
            "  5% 13/252 [22:16<6:44:54, 101.65s/it]batch 13 loss: 38.83525616196135\n",
            "  6% 14/252 [23:59<6:45:04, 102.12s/it]batch 14 loss: 29.556471137794325\n",
            "  6% 15/252 [25:54<6:58:53, 106.05s/it]batch 15 loss: 24.333461298172523\n",
            "  6% 16/252 [27:40<6:56:35, 105.91s/it]batch 16 loss: 26.140687980582783\n",
            "  7% 17/252 [29:24<6:52:41, 105.37s/it]batch 17 loss: 16.00001646767598\n",
            "  7% 18/252 [31:09<6:50:19, 105.21s/it]batch 18 loss: 17.03739476323956\n",
            "  8% 19/252 [32:53<6:47:43, 104.99s/it]batch 19 loss: 16.882519777345806\n",
            "  8% 20/252 [34:36<6:43:49, 104.44s/it]batch 20 loss: 10.766191842369235\n",
            "  8% 21/252 [36:19<6:40:14, 103.96s/it]batch 21 loss: 16.25678524565478\n",
            "  9% 22/252 [37:59<6:33:40, 102.70s/it]batch 22 loss: 14.889090464561853\n",
            "  9% 23/252 [39:41<6:30:39, 102.36s/it]batch 23 loss: 14.200560531812283\n",
            " 10% 24/252 [41:19<6:24:43, 101.24s/it]batch 24 loss: 15.138095400040447\n",
            " 10% 25/252 [43:01<6:23:20, 101.33s/it]batch 25 loss: 13.987456262854817\n",
            " 10% 26/252 [44:41<6:20:04, 100.90s/it]batch 26 loss: 10.210518241424882\n",
            " 11% 27/252 [46:23<6:19:52, 101.30s/it]batch 27 loss: 12.448706334605488\n",
            " 11% 28/252 [48:06<6:19:36, 101.68s/it]batch 28 loss: 7.586666619516219\n",
            " 12% 29/252 [50:00<6:31:36, 105.37s/it]batch 29 loss: 12.860263009771778\n",
            " 12% 30/252 [51:43<6:27:13, 104.66s/it]batch 30 loss: 11.739018527688206\n",
            " 12% 31/252 [53:27<6:25:22, 104.63s/it]batch 31 loss: 7.827781587653953\n",
            " 13% 32/252 [55:11<6:22:21, 104.28s/it]batch 32 loss: 11.097488800625555\n",
            " 13% 33/252 [56:51<6:16:10, 103.06s/it]batch 33 loss: 8.409222516516563\n",
            " 13% 34/252 [58:32<6:12:54, 102.63s/it]batch 34 loss: 10.354674752585577\n",
            "^C\n"
          ]
        }
      ],
      "source": [
        "%env HYDRA_FULL_ERROR=1\n",
        "!python main.py #learning_rate = 0.01"
      ]
    },
    {
      "cell_type": "code",
      "execution_count": null,
      "metadata": {
        "colab": {
          "base_uri": "https://localhost:8080/"
        },
        "id": "xSPztTM9_mv8",
        "outputId": "779ea12f-23f7-4ba4-880d-da5361b6ead4"
      },
      "outputs": [
        {
          "output_type": "stream",
          "name": "stdout",
          "text": [
            "env: HYDRA_FULL_ERROR=1\n",
            "shell-init: error retrieving current directory: getcwd: cannot access parent directories: Transport endpoint is not connected\n",
            "shell-init: error retrieving current directory: getcwd: cannot access parent directories: Transport endpoint is not connected\n",
            "python3: can't open file 'main.py': [Errno 107] Transport endpoint is not connected\n"
          ]
        }
      ],
      "source": [
        "%env HYDRA_FULL_ERROR=1\n",
        "!python main.py #ZCA白色化あり, train/batch_size = 4"
      ]
    },
    {
      "cell_type": "code",
      "source": [
        "!git remote set-url origin https://kikansha-Tomasu:201209Waka/kikansha-Tomasu/dl_lecture_competition_pub.git\n",
        "!git push origin master"
      ],
      "metadata": {
        "colab": {
          "base_uri": "https://localhost:8080/"
        },
        "id": "y3ltRCNcV72S",
        "outputId": "73545ec5-d874-490f-f279-bc309fe281f2"
      },
      "execution_count": 13,
      "outputs": [
        {
          "output_type": "stream",
          "name": "stdout",
          "text": [
            "error: src refspec master does not match any\n",
            "\u001b[31merror: failed to push some refs to 'https://kikansha-Tomasu:201209Waka/kikansha-Tomasu/dl_lecture_competition_pub.git'\n",
            "\u001b[m"
          ]
        }
      ]
    },
    {
      "cell_type": "code",
      "execution_count": null,
      "metadata": {
        "id": "tuRE46FJRu3e"
      },
      "outputs": [],
      "source": [
        "\"\"\"\n",
        "メモリ不足解消のため、configs/base.yamlのtrainのbatch_sizeを16から8に変更\n",
        "データ拡張のために、ZCA白色化を施した\n",
        "ZCA白色化にバッチ処理を施した\n",
        "\"\"\"\n",
        "#元のmain.py\n",
        "import torch\n",
        "import hydra\n",
        "from omegaconf import DictConfig\n",
        "from torch.utils.data import DataLoader\n",
        "import random\n",
        "import numpy as np\n",
        "from src.models.evflownet import EVFlowNet\n",
        "from src.datasets import DatasetProvider\n",
        "from enum import Enum, auto\n",
        "from src.datasets import train_collate\n",
        "from tqdm import tqdm\n",
        "from pathlib import Path\n",
        "from typing import Dict, Any\n",
        "import os\n",
        "import time\n",
        "\n",
        "\n",
        "class RepresentationType(Enum):\n",
        "    VOXEL = auto()\n",
        "    STEPAN = auto()\n",
        "\n",
        "def set_seed(seed):\n",
        "    random.seed(seed)\n",
        "    torch.manual_seed(seed)\n",
        "    torch.cuda.manual_seed_all(seed)\n",
        "    torch.backends.cudnn.deterministic = True\n",
        "    torch.backends.cudnn.benchmark = False\n",
        "    np.random.seed(seed)\n",
        "\n",
        "def compute_epe_error(pred_flow: torch.Tensor, gt_flow: torch.Tensor):\n",
        "    '''\n",
        "    end-point-error (ground truthと予測値の二乗誤差)を計算\n",
        "    pred_flow: torch.Tensor, Shape: torch.Size([B, 2, 480, 640]) => 予測したオプティカルフローデータ\n",
        "    gt_flow: torch.Tensor, Shape: torch.Size([B, 2, 480, 640]) => 正解のオプティカルフローデータ\n",
        "    '''\n",
        "    epe = torch.mean(torch.mean(torch.norm(pred_flow - gt_flow, p=2, dim=1), dim=(1, 2)), dim=0)\n",
        "    return epe\n",
        "\n",
        "def save_optical_flow_to_npy(flow: torch.Tensor, file_name: str):\n",
        "    '''\n",
        "    optical flowをnpyファイルに保存\n",
        "    flow: torch.Tensor, Shape: torch.Size([2, 480, 640]) => オプティカルフローデータ\n",
        "    file_name: str => ファイル名\n",
        "    '''\n",
        "    np.save(f\"{file_name}.npy\", flow.cpu().numpy())\n",
        "\n",
        "@hydra.main(version_base=None, config_path=\"configs\", config_name=\"base\")\n",
        "def main(args: DictConfig):\n",
        "    set_seed(args.seed)\n",
        "    device = torch.device(\"cuda\" if torch.cuda.is_available() else \"cpu\")\n",
        "    '''\n",
        "        ディレクトリ構造:\n",
        "\n",
        "        data\n",
        "        ├─test\n",
        "        |  ├─test_city\n",
        "        |  |    ├─events_left\n",
        "        |  |    |   ├─events.h5\n",
        "        |  |    |   └─rectify_map.h5\n",
        "        |  |    └─forward_timestamps.txt\n",
        "        └─train\n",
        "            ├─zurich_city_11_a\n",
        "            |    ├─events_left\n",
        "            |    |       ├─ events.h5\n",
        "            |    |       └─ rectify_map.h5\n",
        "            |    ├─ flow_forward\n",
        "            |    |       ├─ 000134.png\n",
        "            |    |       |.....\n",
        "            |    └─ forward_timestamps.txt\n",
        "            ├─zurich_city_11_b\n",
        "            └─zurich_city_11_c\n",
        "        '''\n",
        "\n",
        "    # ------------------\n",
        "    #    Dataloader\n",
        "    # ------------------\n",
        "    loader = DatasetProvider(\n",
        "        dataset_path=Path(args.dataset_path),\n",
        "        representation_type=RepresentationType.VOXEL,\n",
        "        delta_t_ms=100,\n",
        "        num_bins=4\n",
        "    )\n",
        "    train_set = loader.get_train_dataset()\n",
        "    test_set = loader.get_test_dataset()\n",
        "    collate_fn = train_collate\n",
        "    train_data = DataLoader(train_set,\n",
        "                                 batch_size=args.data_loader.train.batch_size,\n",
        "                                 shuffle=args.data_loader.train.shuffle,\n",
        "                                 collate_fn=collate_fn,\n",
        "                                 drop_last=False)\n",
        "    test_data = DataLoader(test_set,\n",
        "                                 batch_size=args.data_loader.test.batch_size,\n",
        "                                 shuffle=args.data_loader.test.shuffle,\n",
        "                                 collate_fn=collate_fn,\n",
        "                                 drop_last=False)\n",
        "\n",
        "    '''\n",
        "    train data:\n",
        "        Type of batch: Dict\n",
        "        Key: seq_name, Type: list\n",
        "        Key: event_volume, Type: torch.Tensor, Shape: torch.Size([Batch, 4, 480, 640]) => イベントデータのバッチ\n",
        "        Key: flow_gt, Type: torch.Tensor, Shape: torch.Size([Batch, 2, 480, 640]) => オプティカルフローデータのバッチ\n",
        "        Key: flow_gt_valid_mask, Type: torch.Tensor, Shape: torch.Size([Batch, 1, 480, 640]) => オプティカルフローデータのvalid. ベースラインでは使わない\n",
        "\n",
        "    test data:\n",
        "        Type of batch: Dict\n",
        "        Key: seq_name, Type: list\n",
        "        Key: event_volume, Type: torch.Tensor, Shape: torch.Size([Batch, 4, 480, 640]) => イベントデータのバッチ\n",
        "    '''\n",
        "    # ------------------\n",
        "    #       Model\n",
        "    # ------------------\n",
        "    model = EVFlowNet(args.train).to(device)\n",
        "\n",
        "    # ------------------\n",
        "    #   optimizer\n",
        "    # ------------------\n",
        "    optimizer = torch.optim.Adam(model.parameters(), lr=args.train.initial_learning_rate, weight_decay=args.train.weight_decay)\n",
        "    # ------------------\n",
        "    #   Start training\n",
        "    # ------------------\n",
        "    model.train()\n",
        "    for epoch in range(args.train.epochs):\n",
        "        total_loss = 0\n",
        "        print(\"on epoch: {}\".format(epoch+1))\n",
        "        for i, batch in enumerate(tqdm(train_data)):\n",
        "            batch: Dict[str, Any]\n",
        "            event_image = batch[\"event_volume\"].to(device) # [B, 4, 480, 640]\n",
        "            ground_truth_flow = batch[\"flow_gt\"].to(device) # [B, 2, 480, 640]\n",
        "            flow = model(event_image) # [B, 2, 480, 640]\n",
        "            loss: torch.Tensor = compute_epe_error(flow, ground_truth_flow)\n",
        "            print(f\"batch {i} loss: {loss.item()}\")\n",
        "            optimizer.zero_grad()\n",
        "            loss.backward()\n",
        "            optimizer.step()\n",
        "\n",
        "            total_loss += loss.item()\n",
        "        print(f'Epoch {epoch+1}, Loss: {total_loss / len(train_data)}')\n",
        "\n",
        "    # Create the directory if it doesn't exist\n",
        "    if not os.path.exists('checkpoints'):\n",
        "        os.makedirs('checkpoints')\n",
        "\n",
        "    current_time = time.strftime(\"%Y%m%d%H%M%S\")\n",
        "    model_path = f\"checkpoints/model_{current_time}.pth\"\n",
        "    torch.save(model.state_dict(), model_path)\n",
        "    print(f\"Model saved to {model_path}\")\n",
        "\n",
        "    # ------------------\n",
        "    #   Start predicting\n",
        "    # ------------------\n",
        "    model.load_state_dict(torch.load(model_path, map_location=device))\n",
        "    model.eval()\n",
        "    flow: torch.Tensor = torch.tensor([]).to(device)\n",
        "    with torch.no_grad():\n",
        "        print(\"start test\")\n",
        "        for batch in tqdm(test_data):\n",
        "            batch: Dict[str, Any]\n",
        "            event_image = batch[\"event_volume\"].to(device)\n",
        "            batch_flow = model(event_image) # [1, 2, 480, 640]\n",
        "            flow = torch.cat((flow, batch_flow), dim=0)  # [N, 2, 480, 640]\n",
        "        print(\"test done\")\n",
        "    # ------------------\n",
        "    #  save submission\n",
        "    # ------------------\n",
        "    file_name = \"submission\"\n",
        "    save_optical_flow_to_npy(flow, file_name)\n",
        "\n",
        "if __name__ == \"__main__\":\n",
        "    main()\n"
      ]
    }
  ],
  "metadata": {
    "colab": {
      "provenance": [],
      "authorship_tag": "ABX9TyNM3TXFGLsvrR9F0GjxnSFp",
      "include_colab_link": true
    },
    "kernelspec": {
      "display_name": "Python 3",
      "name": "python3"
    },
    "language_info": {
      "name": "python"
    }
  },
  "nbformat": 4,
  "nbformat_minor": 0
}